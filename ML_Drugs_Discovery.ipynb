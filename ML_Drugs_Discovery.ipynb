{
 "cells": [
  {
   "cell_type": "markdown",
   "id": "ceramic-mixture",
   "metadata": {},
   "source": [
    "## COMPLEMENT A L'ARTICLE\n",
    "\n",
    "Nous vous proposons ici un programme implémentant un modèle simple de régression linéaire en Python pour prédire la solubilité dans l'eau de certaines molécules (c'est-à-dire les valeurs LogS). Il convient de noter que la solubilité est une propriété physico-chimique importante dans la découverte, la conception et le développement de drogues (ou de médicaments).\n",
    "\n",
    "Pour réaliser notre programme, nous avons pris comme data set le jeu de données de solubilité de Delaney : https://raw.githubusercontent.com/dataprofessor/data/master/delaney.csv"
   ]
  },
  {
   "cell_type": "code",
   "execution_count": 7,
   "id": "backed-communications",
   "metadata": {},
   "outputs": [
    {
     "data": {
      "text/html": [
       "<div>\n",
       "<style scoped>\n",
       "    .dataframe tbody tr th:only-of-type {\n",
       "        vertical-align: middle;\n",
       "    }\n",
       "\n",
       "    .dataframe tbody tr th {\n",
       "        vertical-align: top;\n",
       "    }\n",
       "\n",
       "    .dataframe thead th {\n",
       "        text-align: right;\n",
       "    }\n",
       "</style>\n",
       "<table border=\"1\" class=\"dataframe\">\n",
       "  <thead>\n",
       "    <tr style=\"text-align: right;\">\n",
       "      <th></th>\n",
       "      <th>Compound ID</th>\n",
       "      <th>measured log(solubility:mol/L)</th>\n",
       "      <th>ESOL predicted log(solubility:mol/L)</th>\n",
       "      <th>SMILES</th>\n",
       "    </tr>\n",
       "  </thead>\n",
       "  <tbody>\n",
       "    <tr>\n",
       "      <th>0</th>\n",
       "      <td>1,1,1,2-Tetrachloroethane</td>\n",
       "      <td>-2.180</td>\n",
       "      <td>-2.794</td>\n",
       "      <td>ClCC(Cl)(Cl)Cl</td>\n",
       "    </tr>\n",
       "    <tr>\n",
       "      <th>1</th>\n",
       "      <td>1,1,1-Trichloroethane</td>\n",
       "      <td>-2.000</td>\n",
       "      <td>-2.232</td>\n",
       "      <td>CC(Cl)(Cl)Cl</td>\n",
       "    </tr>\n",
       "    <tr>\n",
       "      <th>2</th>\n",
       "      <td>1,1,2,2-Tetrachloroethane</td>\n",
       "      <td>-1.740</td>\n",
       "      <td>-2.549</td>\n",
       "      <td>ClC(Cl)C(Cl)Cl</td>\n",
       "    </tr>\n",
       "    <tr>\n",
       "      <th>3</th>\n",
       "      <td>1,1,2-Trichloroethane</td>\n",
       "      <td>-1.480</td>\n",
       "      <td>-1.961</td>\n",
       "      <td>ClCC(Cl)Cl</td>\n",
       "    </tr>\n",
       "    <tr>\n",
       "      <th>4</th>\n",
       "      <td>1,1,2-Trichlorotrifluoroethane</td>\n",
       "      <td>-3.040</td>\n",
       "      <td>-3.077</td>\n",
       "      <td>FC(F)(Cl)C(F)(Cl)Cl</td>\n",
       "    </tr>\n",
       "    <tr>\n",
       "      <th>...</th>\n",
       "      <td>...</td>\n",
       "      <td>...</td>\n",
       "      <td>...</td>\n",
       "      <td>...</td>\n",
       "    </tr>\n",
       "    <tr>\n",
       "      <th>1139</th>\n",
       "      <td>vamidothion</td>\n",
       "      <td>1.144</td>\n",
       "      <td>-1.446</td>\n",
       "      <td>CNC(=O)C(C)SCCSP(=O)(OC)(OC)</td>\n",
       "    </tr>\n",
       "    <tr>\n",
       "      <th>1140</th>\n",
       "      <td>Vinclozolin</td>\n",
       "      <td>-4.925</td>\n",
       "      <td>-4.377</td>\n",
       "      <td>CC1(OC(=O)N(C1=O)c2cc(Cl)cc(Cl)c2)C=C</td>\n",
       "    </tr>\n",
       "    <tr>\n",
       "      <th>1141</th>\n",
       "      <td>Warfarin</td>\n",
       "      <td>-3.893</td>\n",
       "      <td>-3.913</td>\n",
       "      <td>CC(=O)CC(c1ccccc1)c3c(O)c2ccccc2oc3=O</td>\n",
       "    </tr>\n",
       "    <tr>\n",
       "      <th>1142</th>\n",
       "      <td>Xipamide</td>\n",
       "      <td>-3.790</td>\n",
       "      <td>-3.642</td>\n",
       "      <td>Cc1cccc(C)c1NC(=O)c2cc(c(Cl)cc2O)S(N)(=O)=O</td>\n",
       "    </tr>\n",
       "    <tr>\n",
       "      <th>1143</th>\n",
       "      <td>XMC</td>\n",
       "      <td>-2.581</td>\n",
       "      <td>-2.688</td>\n",
       "      <td>CNC(=O)Oc1cc(C)cc(C)c1</td>\n",
       "    </tr>\n",
       "  </tbody>\n",
       "</table>\n",
       "<p>1144 rows × 4 columns</p>\n",
       "</div>"
      ],
      "text/plain": [
       "                         Compound ID  measured log(solubility:mol/L)  \\\n",
       "0          1,1,1,2-Tetrachloroethane                          -2.180   \n",
       "1              1,1,1-Trichloroethane                          -2.000   \n",
       "2          1,1,2,2-Tetrachloroethane                          -1.740   \n",
       "3              1,1,2-Trichloroethane                          -1.480   \n",
       "4     1,1,2-Trichlorotrifluoroethane                          -3.040   \n",
       "...                              ...                             ...   \n",
       "1139                     vamidothion                           1.144   \n",
       "1140                     Vinclozolin                          -4.925   \n",
       "1141                        Warfarin                          -3.893   \n",
       "1142                        Xipamide                          -3.790   \n",
       "1143                             XMC                          -2.581   \n",
       "\n",
       "      ESOL predicted log(solubility:mol/L)  \\\n",
       "0                                   -2.794   \n",
       "1                                   -2.232   \n",
       "2                                   -2.549   \n",
       "3                                   -1.961   \n",
       "4                                   -3.077   \n",
       "...                                    ...   \n",
       "1139                                -1.446   \n",
       "1140                                -4.377   \n",
       "1141                                -3.913   \n",
       "1142                                -3.642   \n",
       "1143                                -2.688   \n",
       "\n",
       "                                           SMILES  \n",
       "0                                  ClCC(Cl)(Cl)Cl  \n",
       "1                                    CC(Cl)(Cl)Cl  \n",
       "2                                  ClC(Cl)C(Cl)Cl  \n",
       "3                                      ClCC(Cl)Cl  \n",
       "4                             FC(F)(Cl)C(F)(Cl)Cl  \n",
       "...                                           ...  \n",
       "1139                 CNC(=O)C(C)SCCSP(=O)(OC)(OC)  \n",
       "1140        CC1(OC(=O)N(C1=O)c2cc(Cl)cc(Cl)c2)C=C  \n",
       "1141       CC(=O)CC(c1ccccc1)c3c(O)c2ccccc2oc3=O   \n",
       "1142  Cc1cccc(C)c1NC(=O)c2cc(c(Cl)cc2O)S(N)(=O)=O  \n",
       "1143                       CNC(=O)Oc1cc(C)cc(C)c1  \n",
       "\n",
       "[1144 rows x 4 columns]"
      ]
     },
     "execution_count": 7,
     "metadata": {},
     "output_type": "execute_result"
    }
   ],
   "source": [
    "\"\"\"\n",
    "    Nous allons lire le jeu de données téléchargé\n",
    "\"\"\"\n",
    "import pandas as pd\n",
    "data = pd.read_csv('C:/Users/momo/Desktop/Projet - Perso/Drug Discovery/delaney.csv')\n",
    "data"
   ]
  },
  {
   "cell_type": "code",
   "execution_count": 19,
   "id": "marine-assistant",
   "metadata": {},
   "outputs": [
    {
     "name": "stdout",
     "output_type": "stream",
     "text": [
      "0                                    ClCC(Cl)(Cl)Cl\n",
      "1                                      CC(Cl)(Cl)Cl\n",
      "2                                    ClC(Cl)C(Cl)Cl\n",
      "3                                        ClCC(Cl)Cl\n",
      "4                               FC(F)(Cl)C(F)(Cl)Cl\n",
      "                           ...                     \n",
      "1139                   CNC(=O)C(C)SCCSP(=O)(OC)(OC)\n",
      "1140          CC1(OC(=O)N(C1=O)c2cc(Cl)cc(Cl)c2)C=C\n",
      "1141         CC(=O)CC(c1ccccc1)c3c(O)c2ccccc2oc3=O \n",
      "1142    Cc1cccc(C)c1NC(=O)c2cc(c(Cl)cc2O)S(N)(=O)=O\n",
      "1143                         CNC(=O)Oc1cc(C)cc(C)c1\n",
      "Name: SMILES, Length: 1144, dtype: object \n",
      "\n",
      "La prémière valeur :  ClCC(Cl)(Cl)Cl\n"
     ]
    }
   ],
   "source": [
    "\"\"\"\n",
    "    On peut décider de n'afficher que la colonne des notations SMILES\n",
    "\"\"\"\n",
    "print(data.SMILES, \"\\n\")\n",
    "\n",
    "# On peut aussi afficher aussi une valeur particulière dans la colonne SMILES\n",
    "print(\"La prémière valeur : \",data.SMILES[0]) # On décide d'afficher la première valeur"
   ]
  },
  {
   "cell_type": "code",
   "execution_count": 23,
   "id": "orange-controversy",
   "metadata": {},
   "outputs": [
    {
     "name": "stdout",
     "output_type": "stream",
     "text": [
      "1144\n"
     ]
    }
   ],
   "source": [
    "\"\"\"\n",
    "    Grâce à la Bibliothèque RDKit, on peut créer un objet de type mol (structure de données associée à une molécule)\n",
    "    à partir des notations SMILES et à cet objet, on peut appliquer des fonctions élémentaires.\n",
    "\"\"\"\n",
    "from rdkit import Chem\n",
    "\n",
    "liste_mol = [] # On va plus tard utiliser cette liste\n",
    "for target in data.SMILES:\n",
    "    molecule = Chem.MolFromSmiles(target)\n",
    "    liste_mol.append(molecule)\n",
    "    \n",
    "# On vérifie que tous les SMILES ont été convertis en mol\n",
    "print(len(liste_mol)) # On doit normalement obtenir 1144"
   ]
  },
  {
   "cell_type": "markdown",
   "id": "intended-township",
   "metadata": {},
   "source": [
    "-----\n",
    "### Calcul des descripteurs\n",
    "Nous allons maintenant représenter chacune des molécules du data set par un ensemble de descripteurs moléculaires qui seront utilisés pour la construction du modèle.\n",
    "\n",
    "Pour prédire le LogS (log de la solubilité dans l'eau), l'étude de Delaney utilise 4 descripteurs moléculaires:\n",
    "- cLogP (coefficient de partage octanol-eau)\n",
    "- MW : Molecular Weight (ou poids moléculaire)\n",
    "- RB : Rotatable Bounds (ou nombre de liaisons rotatives)\n",
    "- AP : Aromatic Proportion (ou proportion aromatique = nombre d'atomes aromatiques / nombre d'atomes lourds)\n",
    "\n",
    "Malheureusement, RDKit ne peut calculer que les trois (03) premières valeurs. Nous allons donc calculer le AP manuellement."
   ]
  },
  {
   "cell_type": "code",
   "execution_count": 30,
   "id": "artificial-sense",
   "metadata": {},
   "outputs": [],
   "source": [
    "\"\"\"\n",
    "    Nous allons maintetant créer une fonction pour calculer les trois (03) premiers descripteurs que sont :\n",
    "    cLogP, MW et RB.\n",
    "\"\"\"\n",
    "import numpy as np\n",
    "from rdkit.Chem import Descriptors\n",
    "# Inspiré de : https://codeocean.com/explore/capsules?query=tag:data-curation\n",
    "\n",
    "def generateur(smiles, verbose=False):\n",
    "\n",
    "    liste_mol = []\n",
    "    for target in smiles:\n",
    "        mol =Chem.MolFromSmiles(target) \n",
    "        liste_mol.append(mol)\n",
    "       \n",
    "    baseData= np.arange(1,1)\n",
    "    i = 0  \n",
    "    for mol in liste_mol:        \n",
    "       \n",
    "        cLogP = Descriptors.MolLogP(mol)\n",
    "        MW = Descriptors.MolWt(mol)\n",
    "        RB = Descriptors.NumRotatableBonds(mol)\n",
    "           \n",
    "        row = np.array([cLogP, MW, RB])   \n",
    "    \n",
    "        if(i == 0):\n",
    "            baseData = row\n",
    "        else:\n",
    "            baseData = np.vstack([baseData, row])\n",
    "        i+=1      \n",
    "    \n",
    "    nom_col = [\"cLogP\",\"MW\",\"RB\"]   \n",
    "    descripteurs = pd.DataFrame(data = baseData, columns = nom_col)\n",
    "    \n",
    "    return descripteurs"
   ]
  },
  {
   "cell_type": "code",
   "execution_count": 31,
   "id": "fifty-nitrogen",
   "metadata": {},
   "outputs": [
    {
     "data": {
      "text/html": [
       "<div>\n",
       "<style scoped>\n",
       "    .dataframe tbody tr th:only-of-type {\n",
       "        vertical-align: middle;\n",
       "    }\n",
       "\n",
       "    .dataframe tbody tr th {\n",
       "        vertical-align: top;\n",
       "    }\n",
       "\n",
       "    .dataframe thead th {\n",
       "        text-align: right;\n",
       "    }\n",
       "</style>\n",
       "<table border=\"1\" class=\"dataframe\">\n",
       "  <thead>\n",
       "    <tr style=\"text-align: right;\">\n",
       "      <th></th>\n",
       "      <th>cLogP</th>\n",
       "      <th>MW</th>\n",
       "      <th>RB</th>\n",
       "    </tr>\n",
       "  </thead>\n",
       "  <tbody>\n",
       "    <tr>\n",
       "      <th>0</th>\n",
       "      <td>2.59540</td>\n",
       "      <td>167.850</td>\n",
       "      <td>0.0</td>\n",
       "    </tr>\n",
       "    <tr>\n",
       "      <th>1</th>\n",
       "      <td>2.37650</td>\n",
       "      <td>133.405</td>\n",
       "      <td>0.0</td>\n",
       "    </tr>\n",
       "    <tr>\n",
       "      <th>2</th>\n",
       "      <td>2.59380</td>\n",
       "      <td>167.850</td>\n",
       "      <td>1.0</td>\n",
       "    </tr>\n",
       "    <tr>\n",
       "      <th>3</th>\n",
       "      <td>2.02890</td>\n",
       "      <td>133.405</td>\n",
       "      <td>1.0</td>\n",
       "    </tr>\n",
       "    <tr>\n",
       "      <th>4</th>\n",
       "      <td>2.91890</td>\n",
       "      <td>187.375</td>\n",
       "      <td>1.0</td>\n",
       "    </tr>\n",
       "    <tr>\n",
       "      <th>...</th>\n",
       "      <td>...</td>\n",
       "      <td>...</td>\n",
       "      <td>...</td>\n",
       "    </tr>\n",
       "    <tr>\n",
       "      <th>1139</th>\n",
       "      <td>1.98820</td>\n",
       "      <td>287.343</td>\n",
       "      <td>8.0</td>\n",
       "    </tr>\n",
       "    <tr>\n",
       "      <th>1140</th>\n",
       "      <td>3.42130</td>\n",
       "      <td>286.114</td>\n",
       "      <td>2.0</td>\n",
       "    </tr>\n",
       "    <tr>\n",
       "      <th>1141</th>\n",
       "      <td>3.60960</td>\n",
       "      <td>308.333</td>\n",
       "      <td>4.0</td>\n",
       "    </tr>\n",
       "    <tr>\n",
       "      <th>1142</th>\n",
       "      <td>2.56214</td>\n",
       "      <td>354.815</td>\n",
       "      <td>3.0</td>\n",
       "    </tr>\n",
       "    <tr>\n",
       "      <th>1143</th>\n",
       "      <td>2.02164</td>\n",
       "      <td>179.219</td>\n",
       "      <td>1.0</td>\n",
       "    </tr>\n",
       "  </tbody>\n",
       "</table>\n",
       "<p>1144 rows × 3 columns</p>\n",
       "</div>"
      ],
      "text/plain": [
       "        cLogP       MW   RB\n",
       "0     2.59540  167.850  0.0\n",
       "1     2.37650  133.405  0.0\n",
       "2     2.59380  167.850  1.0\n",
       "3     2.02890  133.405  1.0\n",
       "4     2.91890  187.375  1.0\n",
       "...       ...      ...  ...\n",
       "1139  1.98820  287.343  8.0\n",
       "1140  3.42130  286.114  2.0\n",
       "1141  3.60960  308.333  4.0\n",
       "1142  2.56214  354.815  3.0\n",
       "1143  2.02164  179.219  1.0\n",
       "\n",
       "[1144 rows x 3 columns]"
      ]
     },
     "execution_count": 31,
     "metadata": {},
     "output_type": "execute_result"
    }
   ],
   "source": [
    "\"\"\"\n",
    "    Appliquons generate() à data.SMILES\n",
    "\"\"\"\n",
    "df = generateur(data.SMILES)\n",
    "df"
   ]
  },
  {
   "cell_type": "code",
   "execution_count": 33,
   "id": "interim-resident",
   "metadata": {},
   "outputs": [],
   "source": [
    "\"\"\"\n",
    "    Ici, nous allons créer une fonction AromaticAtoms() pour calculer le nombre d'atomes aromatiques dans une molécule. \n",
    "    Nous allons utiliser cette valeur pour calculer ultérieurement le descripteur AP.\n",
    "\"\"\"\n",
    "def AromaticAtoms(m):\n",
    "    aromatic_atoms = [m.GetAtomWithIdx(i).GetIsAromatic() for i in range(m.GetNumAtoms())]\n",
    "    compteur = []\n",
    "    for i in aromatic_atoms:\n",
    "        if i == True:\n",
    "            compteur.append(1)\n",
    "    somme = sum(compteur)\n",
    "    return somme"
   ]
  },
  {
   "cell_type": "code",
   "execution_count": 58,
   "id": "careful-month",
   "metadata": {},
   "outputs": [],
   "source": [
    "\"\"\"\n",
    "    On va maintenant calculer le descripteur AP. Pour se faire : \n",
    "    - on va appliquer notre fonction AromaticAtoms() sur la colonne SMILES de notre data set,\n",
    "    - on utilisera aussi une fonction de RDKit pour calculer le nombre d'atomes lourds\n",
    "    - et enfin on fait le ratio\n",
    "\"\"\"\n",
    "AP = [AromaticAtoms(element)/Descriptors.HeavyAtomCount(element) for element in liste_mol] # vous vous souvenez de liste_mol :)"
   ]
  },
  {
   "cell_type": "code",
   "execution_count": 63,
   "id": "previous-sport",
   "metadata": {},
   "outputs": [],
   "source": [
    "\"\"\"\n",
    "    On va ajouter le descripteur AP au tableau précedent \n",
    "\"\"\" \n",
    "df_AP = pd.DataFrame({\"AP\" : AP})\n",
    "X = pd.concat([df, df_AP], axis=1) # La matrice X contient les 4 descripteurs\n",
    "\n",
    "X"
   ]
  },
  {
   "cell_type": "code",
   "execution_count": 69,
   "id": "sexual-modification",
   "metadata": {},
   "outputs": [
    {
     "name": "stdout",
     "output_type": "stream",
     "text": [
      "0      -2.180\n",
      "1      -2.000\n",
      "2      -1.740\n",
      "3      -1.480\n",
      "4      -3.040\n",
      "        ...  \n",
      "1139    1.144\n",
      "1140   -4.925\n",
      "1141   -3.893\n",
      "1142   -3.790\n",
      "1143   -2.581\n",
      "Name: measured log(solubility:mol/L), Length: 1144, dtype: float64\n"
     ]
    }
   ],
   "source": [
    "\"\"\"\n",
    "    Nous allons maintenant créer une matrice Y qui servira à la prédiction de la valeur LogS.\n",
    "    Dans la trame de données data, les valeurs LogS sont contenues dans la colonne : measured log(solubility:mol/L).\n",
    "    C'est la deuxième colonne du tableau data (index 1).\n",
    "\"\"\"\n",
    "Y = data.iloc[:,1]\n",
    "print(Y)"
   ]
  },
  {
   "cell_type": "markdown",
   "id": "dramatic-breach",
   "metadata": {},
   "source": [
    "---\n",
    "### Régression Linéaire\n",
    "Nous allons maintenant utiliser la régression linéaire pour faire la prédiction des logS. Mais avant, nous allons diviser notre data set (pour éviter du surapprentissage) en deux (02) lots : un pour l'entrainement et un autre pour le test."
   ]
  },
  {
   "cell_type": "code",
   "execution_count": 71,
   "id": "arbitrary-accessory",
   "metadata": {},
   "outputs": [
    {
     "data": {
      "text/plain": [
       "LinearRegression()"
      ]
     },
     "execution_count": 71,
     "metadata": {},
     "output_type": "execute_result"
    }
   ],
   "source": [
    "from sklearn import linear_model\n",
    "from sklearn.metrics import mean_squared_error, r2_score\n",
    "from sklearn.model_selection import train_test_split\n",
    "\n",
    "# On a décidé d'utiliser 75% des données pour l'apprentissage et les 25% restants pour le test\n",
    "X_train, X_test, Y_train, Y_test = train_test_split(X, Y, test_size=0.25)\n",
    "\n",
    "# On fait l'entrainement\n",
    "model = linear_model.LinearRegression()\n",
    "model.fit(X_train, Y_train)"
   ]
  },
  {
   "cell_type": "code",
   "execution_count": 74,
   "id": "aware-navigation",
   "metadata": {},
   "outputs": [
    {
     "name": "stdout",
     "output_type": "stream",
     "text": [
      "Coefficients: [-0.77444521 -0.00638542  0.02924584 -0.262964  ]\n",
      "Intercept: 0.1946696845273701\n",
      "Erreur Quadratique Moyenne (EQM): 0.99\n",
      "Coefficient de détermination (R^2): 0.77\n"
     ]
    }
   ],
   "source": [
    "\"\"\"\n",
    "   - Coefficients :  liste les valeurs des coefficients de régression de chaque variable indépendante\n",
    "   - Intercept : Valeur moyenne de Y quand X = 0\n",
    "   - Erreur Quadratique Moyenne (EQM) : l'erreur de prédiction\n",
    "   - Coefficient de détermination (R^2) : il s'agit du carré de la valeur du coefficient de corrélation de Pearson.\n",
    "       Il est utilisée comme mesure de la qualité de la prédiction.\n",
    "\"\"\"\n",
    "\n",
    "Y_pred_train = model.predict(X_train)\n",
    "\n",
    "print('Coefficients:', model.coef_)\n",
    "print('Intercept:', model.intercept_)\n",
    "print('Erreur Quadratique Moyenne (EQM): %.2f'% mean_squared_error(Y_train, Y_pred_train))\n",
    "print('Coefficient de détermination (R^2): %.2f'% r2_score(Y_train, Y_pred_train))"
   ]
  },
  {
   "cell_type": "code",
   "execution_count": 75,
   "id": "negative-conviction",
   "metadata": {},
   "outputs": [
    {
     "name": "stdout",
     "output_type": "stream",
     "text": [
      "Coefficients: [-0.77444521 -0.00638542  0.02924584 -0.262964  ]\n",
      "Intercept: 0.1946696845273701\n",
      "Erreur Quadratique Moyenne (EQM): 1.09\n",
      "Coefficient de détermination (R^2): 0.76\n"
     ]
    }
   ],
   "source": [
    "Y_pred_test = model.predict(X_test)\n",
    "print('Coefficients:', model.coef_)\n",
    "print('Intercept:', model.intercept_)\n",
    "print('Erreur Quadratique Moyenne (EQM): %.2f'% mean_squared_error(Y_test, Y_pred_test))\n",
    "print('Coefficient de détermination (R^2): %.2f'% r2_score(Y_test, Y_pred_test))"
   ]
  },
  {
   "cell_type": "code",
   "execution_count": 76,
   "id": "steady-liquid",
   "metadata": {},
   "outputs": [
    {
     "name": "stdout",
     "output_type": "stream",
     "text": [
      "LogS =  0.19 -0.77 LogP -0.0064 MW 0.0292 RB -0.26 AP\n"
     ]
    }
   ],
   "source": [
    "yintercept = '%.2f' % model.intercept_\n",
    "LogP = '%.2f LogP' % model.coef_[0]\n",
    "MW = '%.4f MW' % model.coef_[1]\n",
    "RB = '%.4f RB' % model.coef_[2]\n",
    "AP = '%.2f AP' % model.coef_[3]\n",
    "print('LogS = ' + ' ' + yintercept + ' ' + LogP + ' ' + MW + ' ' + RB + ' ' + AP)"
   ]
  },
  {
   "cell_type": "markdown",
   "id": "french-simulation",
   "metadata": {},
   "source": [
    "---\n",
    "### Affichage des valeurs\n",
    "Visualisons maintenant la corrélation des valeurs de LogS expérimental avec celles des valeurs de LogS prédites au moyen du nuage de points. Nous afficherons les valeurs expérimentales et prédites de LogS séparément dans 2 nuages de points"
   ]
  },
  {
   "cell_type": "code",
   "execution_count": 79,
   "id": "careful-roommate",
   "metadata": {},
   "outputs": [
    {
     "data": {
      "image/png": "[encoded data removed]",
      "text/plain": [
       "<Figure size 792x360 with 2 Axes>"
      ]
     },
     "metadata": {
      "needs_background": "light"
     },
     "output_type": "display_data"
    }
   ],
   "source": [
    "import matplotlib.pyplot as plt\n",
    "plt.figure(figsize=(11,5))\n",
    "\n",
    "# 1 row, 2 column, plot 1\n",
    "plt.subplot(1, 2, 1)\n",
    "plt.scatter(x=Y_train, y=Y_pred_train, c=\"#7CAE00\", alpha=0.3)\n",
    "\n",
    "z = np.polyfit(Y_train, Y_pred_train, 1)\n",
    "p = np.poly1d(z)\n",
    "plt.plot(Y_test,p(Y_test),\"#F8766D\")\n",
    "\n",
    "plt.ylabel('Predicted LogS')\n",
    "plt.xlabel('Experimental LogS')\n",
    "\n",
    "# 1 row, 2 column, plot 2\n",
    "plt.subplot(1, 2, 2)\n",
    "plt.scatter(x=Y_test, y=Y_pred_test, c=\"#619CFF\", alpha=0.3)\n",
    "\n",
    "z = np.polyfit(Y_test, Y_pred_test, 1)\n",
    "p = np.poly1d(z)\n",
    "plt.plot(Y_test,p(Y_test),\"#F8766D\")\n",
    "\n",
    "plt.xlabel('Experimental LogS')\n",
    "\n",
    "plt.savefig('plot_horizontal_logS.png')\n",
    "plt.savefig('plot_horizontal_logS.pdf')\n",
    "plt.show()"
   ]
  }
 ],
 "metadata": {
  "kernelspec": {
   "display_name": "Python 3",
   "language": "python",
   "name": "python3"
  },
  "language_info": {
   "codemirror_mode": {
    "name": "ipython",
    "version": 3
   },
   "file_extension": ".py",
   "mimetype": "text/x-python",
   "name": "python",
   "nbconvert_exporter": "python",
   "pygments_lexer": "ipython3",
   "version": "3.8.5"
  }
 },
 "nbformat": 4,
 "nbformat_minor": 5
}
